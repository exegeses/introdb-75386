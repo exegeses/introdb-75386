{
 "cells": [
  {
   "cell_type": "markdown",
   "metadata": {},
   "source": [
    "# Comandos SQL"
   ]
  },
  {
   "cell_type": "markdown",
   "metadata": {},
   "source": [
    "### Crear una base de datos:"
   ]
  },
  {
   "cell_type": "code",
   "execution_count": null,
   "metadata": {
    "vscode": {
     "languageId": "sql"
    }
   },
   "outputs": [],
   "source": [
    "-- Se utiliza las palabras reservadas CREATE DATABASE para crear una base de datos en MySQL + el nombre de la base de datos que se desea crear.\n",
    "CREATE DATABASE nombre;"
   ]
  },
  {
   "cell_type": "markdown",
   "metadata": {},
   "source": [
    "### Eliminar una base de datos:"
   ]
  },
  {
   "cell_type": "code",
   "execution_count": null,
   "metadata": {
    "vscode": {
     "languageId": "sql"
    }
   },
   "outputs": [],
   "source": [
    "-- Se utiliza las palabras reservadas DROP DATABASE para eliminar una base de datos en MySQL + el nombre de la base de datos que se desea eliminar.\n",
    "DROP DATABASE nombre;"
   ]
  },
  {
   "cell_type": "markdown",
   "metadata": {},
   "source": [
    "### Activar una base de datos:"
   ]
  },
  {
   "cell_type": "code",
   "execution_count": null,
   "metadata": {
    "vscode": {
     "languageId": "sql"
    }
   },
   "outputs": [],
   "source": [
    "-- Se utiliza la palabra reservada USE para seleccionar una base de datos en MySQL + el nombre de la base de datos que se desea usar.\n",
    "USE nombre;"
   ]
  },
  {
   "cell_type": "markdown",
   "metadata": {},
   "source": [
    "### Crear tabla:"
   ]
  },
  {
   "cell_type": "code",
   "execution_count": null,
   "metadata": {
    "vscode": {
     "languageId": "sql"
    }
   },
   "outputs": [],
   "source": [
    "-- Se utiliza las palabras reservadas CREATE TABLE para crear una tabla en MySQL + el nombre de la tabla que se desea crear + los campos de la tabla con sus respectivos tipos de datos y características.\n",
    "CREATE TABLE nombre (\n",
    "\tnombreCampo tipoDato características,\n",
    "\tnombreCampo2 tipoDato características,\n",
    "\tnombreCampo3 tipoDato características\n",
    "\t);"
   ]
  },
  {
   "cell_type": "code",
   "execution_count": null,
   "metadata": {
    "vscode": {
     "languageId": "sql"
    }
   },
   "outputs": [],
   "source": [
    "-- Ejemplo:\n",
    "create table productos\n",
    "(\n",
    "    \tidProducto smallint unsigned auto_increment primary key,\n",
    "    \tprdNombre varchar(50) not null unique,\n",
    "    \tprdPrecio decimal(10,2) unsigned not null,\n",
    "    \tidMarca smallint unsigned not null,\n",
    "    \tidCategoria smallint unsigned not null,\n",
    "    \tprdDescripcion varchar(1000) not null,\n",
    "    \tprdImagen varchar(40) not null,\n",
    "    \tprdActivo boolean not null default(1),\n",
    "    \tforeign key (idMarca) references marcas (idMarca),\n",
    "    \tforeign key (idCategoria) references categorias (idCategoria)\n",
    ");"
   ]
  },
  {
   "cell_type": "markdown",
   "metadata": {},
   "source": [
    "### Insertar datos en una tabla:"
   ]
  },
  {
   "cell_type": "code",
   "execution_count": null,
   "metadata": {
    "vscode": {
     "languageId": "sql"
    }
   },
   "outputs": [],
   "source": [
    "-- Sintaxis usando SET\n",
    "INSERT INTO nombreTabla\n",
    "\tSET\n",
    "\t\tnombreCampo = valor,\n",
    "\t\tnombreCampo2 = valor2,\n",
    "\t\tnombreCampo3 = valor3,\n",
    "\t\tnombreCampoX = valorx;\n",
    "\n",
    "-- Sintaxis completa (Se mencionan las columnas)\n",
    "INSERT INTO nombreTabla\n",
    "\t(campo2, campo3, campo4, campoX)\n",
    "\tVALUES\n",
    "\t(valor2, valor3, valor4, valorX);\n",
    "\n",
    "-- Sintaxis simplificada (No se mencionan las columnas)\n",
    "INSERT INTO nombreTabla\n",
    "\tVALUES\n",
    "\t(valorPK, Val2, val3, val4, valX);\n"
   ]
  },
  {
   "cell_type": "markdown",
   "metadata": {},
   "source": [
    "### Mostrar los datos de una tabla:\n",
    "\n",
    "- El SELECT viene siempre acompañado de FROM.\n",
    "- El * hace que traiga todas las columnas de los registros.\n",
    "- Si queremos traer ciertas columnas de una tabla, debes mencionar los nombre de los campos separados con \",\"."
   ]
  },
  {
   "cell_type": "code",
   "execution_count": null,
   "metadata": {
    "vscode": {
     "languageId": "sql"
    }
   },
   "outputs": [],
   "source": [
    "-- Se utiliza la palabra reservada SELECT para seleccionar datos de una tabla en MySQL + los campos que se desean seleccionar + la tabla de la que se desean seleccionar los datos.\n",
    "SELECT * FROM nombreTabla;"
   ]
  },
  {
   "cell_type": "markdown",
   "metadata": {},
   "source": [
    "### Mostrar las información de los datos de una tabla:"
   ]
  },
  {
   "cell_type": "code",
   "execution_count": null,
   "metadata": {
    "vscode": {
     "languageId": "sql"
    }
   },
   "outputs": [],
   "source": [
    "-- Se utiliza la palabra reservada DESC para seleccionar la estructura de una tabla en MySQL + el nombre de la tabla de la que se desea seleccionar la estructura.\n",
    "DESC nombreTabla;"
   ]
  },
  {
   "cell_type": "markdown",
   "metadata": {},
   "source": [
    "### Actualizar los datos de una tabla:"
   ]
  },
  {
   "cell_type": "code",
   "execution_count": null,
   "metadata": {
    "vscode": {
     "languageId": "sql"
    }
   },
   "outputs": [],
   "source": [
    "-- Se utiliza la palabra reservada UPDATE para actualizar datos de una tabla en MySQL + el nombre de la tabla que se desea actualizar + el campo que se desea actualizar\n",
    "-- + el valor que se desea asignar al campo + la condición que se debe cumplir para actualizar el campo.\n",
    "UPDATE nombreTabla\n",
    "\tSET nombreCampo = valor WHERE nombreCampoX = valorX"
   ]
  },
  {
   "cell_type": "markdown",
   "metadata": {},
   "source": [
    "### Eliminar datos de una tabla:"
   ]
  },
  {
   "cell_type": "code",
   "execution_count": null,
   "metadata": {
    "vscode": {
     "languageId": "sql"
    }
   },
   "outputs": [],
   "source": [
    "-- Se utiliza la palabra reservada DELETE para eliminar datos de una tabla en MySQL + el nombre de la tabla de la que se desea eliminar los datos + la condición que se debe cumplir para eliminar los datos.\n",
    "DELETE FROM nombreTabla\n",
    "\tWHERE colPK = valorPK;"
   ]
  },
  {
   "cell_type": "markdown",
   "metadata": {},
   "source": [
    "# Tipos de datos"
   ]
  },
  {
   "cell_type": "markdown",
   "metadata": {},
   "source": [
    "### Características:\n",
    "\n",
    "- PRIMARY KEY: Es el identificador de la tabla, por defecto es NOT NULL.\n",
    "- AUTO_INCREMENT: Indica que el valor se auto incrementa.\n",
    "- NOT NULL: Indica que el valor no puede ser nulo.\n",
    "- UNIQUE: Indica que el valor debe ser único.\n",
    "- UNSIGNED: EL valor no puede ser negativo\n",
    "- FOREIGN KEY: Es el identificador de una tabla ajena."
   ]
  }
 ],
 "metadata": {
  "kernelspec": {
   "display_name": "Python 3",
   "language": "python",
   "name": "python3"
  },
  "language_info": {
   "name": "python",
   "version": "3.13.1"
  }
 },
 "nbformat": 4,
 "nbformat_minor": 2
}
